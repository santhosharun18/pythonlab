{
  "nbformat": 4,
  "nbformat_minor": 0,
  "metadata": {
    "colab": {
      "name": "Dictionary.ipynb",
      "provenance": [],
      "include_colab_link": true
    },
    "kernelspec": {
      "name": "python3",
      "display_name": "Python 3"
    },
    "language_info": {
      "name": "python"
    }
  },
  "cells": [
    {
      "cell_type": "markdown",
      "metadata": {
        "id": "view-in-github",
        "colab_type": "text"
      },
      "source": [
        "<a href=\"https://colab.research.google.com/github/santhosharun18/pythonlab/blob/main/Dictionary.ipynb\" target=\"_parent\"><img src=\"https://colab.research.google.com/assets/colab-badge.svg\" alt=\"Open In Colab\"/></a>"
      ]
    },
    {
      "cell_type": "markdown",
      "metadata": {
        "id": "RWUrdNHoht83"
      },
      "source": [
        "**Create and print a dictionary**"
      ]
    },
    {
      "cell_type": "code",
      "metadata": {
        "id": "EMmipJIqhvX3"
      },
      "source": [
        "thisdict = {\n",
        "  \"brand\": \"Ford\",\n",
        "  \"model\": \"Mustang\",\n",
        "  \"year\": 1964\n",
        "}\n",
        "print(thisdict)"
      ],
      "execution_count": null,
      "outputs": []
    },
    {
      "cell_type": "markdown",
      "metadata": {
        "id": "E-5x1kNrh0Q4"
      },
      "source": [
        "**Print the \"brand\" value of the dictionary**"
      ]
    },
    {
      "cell_type": "code",
      "metadata": {
        "id": "tIQwQq2eh10g"
      },
      "source": [
        "thisdict = {\n",
        "  \"brand\": \"Ford\",\n",
        "  \"model\": \"Mustang\",\n",
        "  \"year\": 1964\n",
        "}\n",
        "print(thisdict[\"year\"])"
      ],
      "execution_count": null,
      "outputs": []
    },
    {
      "cell_type": "markdown",
      "metadata": {
        "id": "iIKldUnWh4Zx"
      },
      "source": [
        "**Duplicate values will overwrite existing values**"
      ]
    },
    {
      "cell_type": "code",
      "metadata": {
        "id": "hPaEb5keiAZa",
        "colab": {
          "base_uri": "https://localhost:8080/"
        },
        "outputId": "21294f1a-7953-4b81-c318-078e6ca9c973"
      },
      "source": [
        "thisdict = {\n",
        "  \"brand\": \"Ford\",\n",
        "  \"model\": \"Mustang\",\n",
        "  \"year\": 1964,\n",
        "  \"year\": 2020\n",
        "}\n",
        "print(thisdict)"
      ],
      "execution_count": 2,
      "outputs": [
        {
          "output_type": "stream",
          "name": "stdout",
          "text": [
            "{'brand': 'Ford', 'model': 'Mustang', 'year': 2020}\n"
          ]
        }
      ]
    },
    {
      "cell_type": "markdown",
      "metadata": {
        "id": "GQmAKEvUiGGi"
      },
      "source": [
        "**Print the number of items in the dictionary**"
      ]
    },
    {
      "cell_type": "code",
      "metadata": {
        "id": "ExcD5tMEiKML",
        "colab": {
          "base_uri": "https://localhost:8080/"
        },
        "outputId": "6253c87b-8dd6-4bea-cfa4-6223bda51476"
      },
      "source": [
        "print(len(thisdict))"
      ],
      "execution_count": 3,
      "outputs": [
        {
          "output_type": "stream",
          "name": "stdout",
          "text": [
            "3\n"
          ]
        }
      ]
    },
    {
      "cell_type": "markdown",
      "metadata": {
        "id": "2OkmQH_piR_M"
      },
      "source": [
        "**String, int, boolean, and list data types**"
      ]
    },
    {
      "cell_type": "code",
      "metadata": {
        "id": "KwQ-71_TiUOn"
      },
      "source": [
        "thisdict = {\n",
        "  \"brand\": \"Ford\",\n",
        "  \"electric\": False,\n",
        "  \"year\": 1964,\n",
        "  \"colors\": [\"red\", \"white\", \"blue\"]\n",
        "}"
      ],
      "execution_count": 4,
      "outputs": []
    },
    {
      "cell_type": "markdown",
      "metadata": {
        "id": "o0PHCymbiWiU"
      },
      "source": [
        "**Print the data type of a dictionary**"
      ]
    },
    {
      "cell_type": "code",
      "metadata": {
        "id": "WdKGxCqbiaXU",
        "colab": {
          "base_uri": "https://localhost:8080/"
        },
        "outputId": "101ae1e3-85da-42c7-99c0-a5d099703a50"
      },
      "source": [
        "thisdict = {\n",
        "  \"brand\": \"Ford\",\n",
        "  \"model\": \"Mustang\",\n",
        "  \"year\": 1964\n",
        "}\n",
        "print(type(thisdict))"
      ],
      "execution_count": 5,
      "outputs": [
        {
          "output_type": "stream",
          "name": "stdout",
          "text": [
            "<class 'dict'>\n"
          ]
        }
      ]
    },
    {
      "cell_type": "markdown",
      "metadata": {
        "id": "n7r01-YR0Uv4"
      },
      "source": [
        "**Add a new item to the original dictionary, and see that the keys list gets updated **"
      ]
    },
    {
      "cell_type": "code",
      "metadata": {
        "id": "Q1slSIiA0Xrg",
        "colab": {
          "base_uri": "https://localhost:8080/"
        },
        "outputId": "57783593-d35f-4781-fbf8-8c09cbb84d14"
      },
      "source": [
        "car = {\n",
        "\"brand\": \"Ford\",\n",
        "\"model\": \"Mustang\",\n",
        "\"year\": 1964\n",
        "}\n",
        "\n",
        "x = car.keys()\n",
        "\n",
        "print(x) #before the change\n",
        "\n",
        "car[\"color\"] = \"white\"\n",
        "\n",
        "print(x) #after the change"
      ],
      "execution_count": 6,
      "outputs": [
        {
          "output_type": "stream",
          "name": "stdout",
          "text": [
            "dict_keys(['brand', 'model', 'year'])\n",
            "dict_keys(['brand', 'model', 'year', 'color'])\n"
          ]
        }
      ]
    },
    {
      "cell_type": "markdown",
      "metadata": {
        "id": "NhrBX6Y70brx"
      },
      "source": [
        "**Make a change in the original dictionary, and see that the values list gets updated **"
      ]
    },
    {
      "cell_type": "code",
      "metadata": {
        "id": "2k2ko-vV0iTZ"
      },
      "source": [
        "car = {\n",
        "\"brand\": \"Ford\",\n",
        "\"model\": \"Mustang\",\n",
        "\"year\": 1964\n",
        "}\n",
        "\n",
        "x = car.values()\n",
        "\n",
        "print(x) #before the change\n",
        "\n",
        "car[\"year\"] = 2020\n",
        "\n",
        "print(x) #after the change\n"
      ],
      "execution_count": null,
      "outputs": []
    },
    {
      "cell_type": "markdown",
      "metadata": {
        "id": "mu9KIDBX01_N"
      },
      "source": [
        "**Make a change in the original dictionary, and see that the items list gets updated**"
      ]
    },
    {
      "cell_type": "code",
      "metadata": {
        "colab": {
          "base_uri": "https://localhost:8080/"
        },
        "id": "F1y7ycGH1Bvn",
        "outputId": "61165c3b-6c59-4516-acef-e8ea332e649b"
      },
      "source": [
        "car = {\n",
        "\"brand\": \"Ford\",\n",
        "\"model\": \"Mustang\",\n",
        "\"year\": 1964\n",
        "}\n",
        "\n",
        "x = car.items()\n",
        "\n",
        "print(x) #before the change\n",
        "\n",
        "car[\"year\"] = 2020\n",
        "\n",
        "print(x) #after the change\n"
      ],
      "execution_count": null,
      "outputs": [
        {
          "output_type": "stream",
          "name": "stdout",
          "text": [
            "dict_items([('brand', 'Ford'), ('model', 'Mustang'), ('year', 1964)])\n",
            "dict_items([('brand', 'Ford'), ('model', 'Mustang'), ('year', 2020)])\n"
          ]
        }
      ]
    },
    {
      "cell_type": "markdown",
      "metadata": {
        "id": "cliMMYB_1EfO"
      },
      "source": [
        "**Check if \"model\" is present in the dictionary**"
      ]
    },
    {
      "cell_type": "code",
      "metadata": {
        "id": "8DlZYqgw1Mae"
      },
      "source": [
        "thisdict = {\n",
        "  \"brand\": \"Ford\",\n",
        "  \"model\": \"Mustang\",\n",
        "  \"year\": 1964\n",
        "}\n",
        "if \"model\" in thisdict:\n",
        "  print(\"Yes, 'model' is one of the keys in the thisdict dictionary\")"
      ],
      "execution_count": null,
      "outputs": []
    },
    {
      "cell_type": "markdown",
      "metadata": {
        "id": "4cf27gMs1aTZ"
      },
      "source": [
        "**Change the \"year\" to 2018**"
      ]
    },
    {
      "cell_type": "code",
      "metadata": {
        "id": "fUWeiWCO1c0B"
      },
      "source": [
        "thisdict = {\n",
        "  \"brand\": \"Ford\",\n",
        "  \"model\": \"Mustang\",\n",
        "  \"year\": 1964\n",
        "}\n",
        "thisdict[\"year\"] = 2018"
      ],
      "execution_count": null,
      "outputs": []
    },
    {
      "cell_type": "markdown",
      "metadata": {
        "id": "YzhenjUm1i0K"
      },
      "source": [
        "**Update the \"year\" of the car by using the update()**"
      ]
    },
    {
      "cell_type": "code",
      "metadata": {
        "id": "QZpMDuXW1l2a"
      },
      "source": [
        "thisdict = {\n",
        "  \"brand\": \"Ford\",\n",
        "  \"model\": \"Mustang\",\n",
        "  \"year\": 1964\n",
        "}\n",
        "thisdict.update({\"year\": 2020})"
      ],
      "execution_count": null,
      "outputs": []
    },
    {
      "cell_type": "markdown",
      "metadata": {
        "id": "eM4mq5ag1uzc"
      },
      "source": [
        "**Adding an item to the dictionary is done by using a new index key and assigning a value to it**"
      ]
    },
    {
      "cell_type": "code",
      "metadata": {
        "id": "suQbLynN1y0H"
      },
      "source": [
        "thisdict = {\n",
        "  \"brand\": \"Ford\",\n",
        "  \"model\": \"Mustang\",\n",
        "  \"year\": 1964\n",
        "}\n",
        "thisdict[\"color\"] = \"red\"\n",
        "print(thisdict)"
      ],
      "execution_count": null,
      "outputs": []
    },
    {
      "cell_type": "markdown",
      "metadata": {
        "id": "CQNKgW4P11Rw"
      },
      "source": [
        "**Update Dictionary**"
      ]
    },
    {
      "cell_type": "code",
      "metadata": {
        "id": "xmc3NDaO2BSf"
      },
      "source": [
        "thisdict = {\n",
        "  \"brand\": \"Ford\",\n",
        "  \"model\": \"Mustang\",\n",
        "  \"year\": 1964\n",
        "}\n",
        "thisdict.update({\"color\": \"red\"})"
      ],
      "execution_count": null,
      "outputs": []
    },
    {
      "cell_type": "markdown",
      "metadata": {
        "id": "dO_Ejtew2LQp"
      },
      "source": [
        "**pop() method removes the item with the specified key name**"
      ]
    },
    {
      "cell_type": "code",
      "metadata": {
        "colab": {
          "base_uri": "https://localhost:8080/"
        },
        "id": "wq7LkLyB2Pw4",
        "outputId": "74fe9a1d-97a7-491a-945a-5685d965cd4d"
      },
      "source": [
        "thisdict = {\n",
        "  \"brand\": \"Ford\",\n",
        "  \"model\": \"Mustang\",\n",
        "  \"year\": 1964\n",
        "}\n",
        "thisdict.pop(\"model\")\n",
        "print(thisdict)"
      ],
      "execution_count": null,
      "outputs": [
        {
          "output_type": "stream",
          "name": "stdout",
          "text": [
            "{'brand': 'Ford', 'year': 1964}\n"
          ]
        }
      ]
    },
    {
      "cell_type": "markdown",
      "metadata": {
        "id": "rowRZoQ52XCy"
      },
      "source": [
        "**del keyword removes the item with the specified key name**"
      ]
    },
    {
      "cell_type": "code",
      "metadata": {
        "id": "1yTtvx9W2ahT"
      },
      "source": [
        "thisdict = {\n",
        "  \"brand\": \"Ford\",\n",
        "  \"model\": \"Mustang\",\n",
        "  \"year\": 1964\n",
        "}\n",
        "del thisdict[\"model\"]\n",
        "print(thisdict)\n"
      ],
      "execution_count": null,
      "outputs": []
    },
    {
      "cell_type": "markdown",
      "metadata": {
        "id": "dM50QiNu2ibD"
      },
      "source": [
        "**del keyword can also delete the dictionary completely**"
      ]
    },
    {
      "cell_type": "code",
      "metadata": {
        "colab": {
          "base_uri": "https://localhost:8080/",
          "height": 200
        },
        "id": "5ykCN9Cl5OHA",
        "outputId": "e1ef0f3b-c51b-49ce-be4a-b108554268fa"
      },
      "source": [
        "thisdict = {\n",
        "  \"brand\": \"Ford\",\n",
        "  \"model\": \"Mustang\",\n",
        "  \"year\": 1964\n",
        "}\n",
        "del thisdict\n",
        "print(thisdict)"
      ],
      "execution_count": null,
      "outputs": [
        {
          "output_type": "error",
          "ename": "NameError",
          "evalue": "ignored",
          "traceback": [
            "\u001b[0;31m---------------------------------------------------------------------------\u001b[0m",
            "\u001b[0;31mNameError\u001b[0m                                 Traceback (most recent call last)",
            "\u001b[0;32m<ipython-input-21-282b8c869b84>\u001b[0m in \u001b[0;36m<module>\u001b[0;34m()\u001b[0m\n\u001b[1;32m      5\u001b[0m }\n\u001b[1;32m      6\u001b[0m \u001b[0;32mdel\u001b[0m \u001b[0mthisdict\u001b[0m\u001b[0;34m\u001b[0m\u001b[0;34m\u001b[0m\u001b[0m\n\u001b[0;32m----> 7\u001b[0;31m \u001b[0mprint\u001b[0m\u001b[0;34m(\u001b[0m\u001b[0mthisdict\u001b[0m\u001b[0;34m)\u001b[0m\u001b[0;34m\u001b[0m\u001b[0;34m\u001b[0m\u001b[0m\n\u001b[0m",
            "\u001b[0;31mNameError\u001b[0m: name 'thisdict' is not defined"
          ]
        }
      ]
    },
    {
      "cell_type": "markdown",
      "metadata": {
        "id": "CEKTjN_r5W58"
      },
      "source": [
        "**clear() method empties the dictionary**"
      ]
    },
    {
      "cell_type": "code",
      "metadata": {
        "id": "E_-Kam2q53G1"
      },
      "source": [
        "thisdict = {\n",
        "  \"brand\": \"Ford\",\n",
        "  \"model\": \"Mustang\",\n",
        "  \"year\": 1964\n",
        "}\n",
        "thisdict.clear()\n",
        "print(thisdict)"
      ],
      "execution_count": null,
      "outputs": []
    },
    {
      "cell_type": "markdown",
      "metadata": {
        "id": "_7XSIxMV54Bh"
      },
      "source": [
        "**Print all key names in the dictionary**"
      ]
    },
    {
      "cell_type": "code",
      "metadata": {
        "id": "zPORK8LC58Hw"
      },
      "source": [
        "thisdict = {\n",
        "  \"brand\": \"Ford\",\n",
        "  \"model\": \"Mustang\",\n",
        "  \"year\": 1964\n",
        "}\n",
        "thisdict.update({\"color\": \"red\"})\n",
        "for x in thisdict:\n",
        "  print(x)"
      ],
      "execution_count": null,
      "outputs": []
    },
    {
      "cell_type": "markdown",
      "metadata": {
        "id": "XrtUS7ct6Dj5"
      },
      "source": [
        "**Print all values in the dictionary**"
      ]
    },
    {
      "cell_type": "code",
      "metadata": {
        "id": "qCQYBEI46H-o"
      },
      "source": [
        "for x in thisdict:\n",
        "  print(thisdict[x])"
      ],
      "execution_count": null,
      "outputs": []
    },
    {
      "cell_type": "markdown",
      "metadata": {
        "id": "MlraJpgl6RQT"
      },
      "source": [
        "**use the values() method to return values of a dictionary**"
      ]
    },
    {
      "cell_type": "code",
      "metadata": {
        "id": "3Fy8ynrz6UnT"
      },
      "source": [
        "for x in thisdict.values():\n",
        "  print(x)"
      ],
      "execution_count": null,
      "outputs": []
    },
    {
      "cell_type": "markdown",
      "metadata": {
        "id": "CWpOT7qG6bPs"
      },
      "source": [
        "**keys() method to return the keys of a dictionary**"
      ]
    },
    {
      "cell_type": "code",
      "metadata": {
        "id": "HRvfXI2e6f5O"
      },
      "source": [
        "for x in thisdict.keys():\n",
        "  print(x)"
      ],
      "execution_count": null,
      "outputs": []
    },
    {
      "cell_type": "markdown",
      "metadata": {
        "id": "CsMm6RFS6oIu"
      },
      "source": [
        "**Loop through both keys and values, by using the items()**"
      ]
    },
    {
      "cell_type": "code",
      "metadata": {
        "id": "RdC6htGX6sYM"
      },
      "source": [
        "for x, y in thisdict.items():\n",
        "  print(x, y)"
      ],
      "execution_count": null,
      "outputs": []
    },
    {
      "cell_type": "markdown",
      "metadata": {
        "id": "IESNyO9Q6wiK"
      },
      "source": [
        "**Make a copy of a dictionary with the copy() method**"
      ]
    },
    {
      "cell_type": "code",
      "metadata": {
        "id": "PuPwoBtS6yLo"
      },
      "source": [
        "thisdict = {\n",
        "  \"brand\": \"Ford\",\n",
        "  \"model\": \"Mustang\",\n",
        "  \"year\": 1964\n",
        "}\n",
        "mydict = thisdict.copy()\n",
        "print(mydict)"
      ],
      "execution_count": null,
      "outputs": []
    },
    {
      "cell_type": "markdown",
      "metadata": {
        "id": "2wBf_AMH7QV8"
      },
      "source": [
        "**Create a dictionary that contain three dictionaries**"
      ]
    },
    {
      "cell_type": "code",
      "metadata": {
        "id": "hIykrS7R77S-"
      },
      "source": [
        "myfamily = {\n",
        "  \"child1\" : {\n",
        "    \"name\" : \"Emil\",\n",
        "    \"year\" : 2004\n",
        "  },\n",
        "  \"child2\" : {\n",
        "    \"name\" : \"Tobias\",\n",
        "    \"year\" : 2007\n",
        "  },\n",
        "  \"child3\" : {\n",
        "    \"name\" : \"Linus\",\n",
        "    \"year\" : 2011\n",
        "  }\n",
        "}"
      ],
      "execution_count": null,
      "outputs": []
    },
    {
      "cell_type": "markdown",
      "metadata": {
        "id": "o0RwmZFm7XOl"
      },
      "source": [
        "**Create three dictionaries, then create one dictionary that will contain the other three dictionaries**"
      ]
    },
    {
      "cell_type": "code",
      "metadata": {
        "id": "syJ2VlQC7dJU"
      },
      "source": [
        "child1 = {\n",
        "  \"name\" : \"Emil\",\n",
        "  \"year\" : 2004\n",
        "}\n",
        "child2 = {\n",
        "  \"name\" : \"Tobias\",\n",
        "  \"year\" : 2007\n",
        "}\n",
        "child3 = {\n",
        "  \"name\" : \"Linus\",\n",
        "  \"year\" : 2011\n",
        "}\n",
        "\n",
        "myfamily = {\n",
        "  \"child1\" : child1,\n",
        "  \"child2\" : child2,\n",
        "  \"child3\" : child3\n",
        "}"
      ],
      "execution_count": null,
      "outputs": []
    }
  ]
}