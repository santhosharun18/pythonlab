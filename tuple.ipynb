{
  "nbformat": 4,
  "nbformat_minor": 0,
  "metadata": {
    "colab": {
      "name": "tuple.ipynb",
      "provenance": [],
      "include_colab_link": true
    },
    "kernelspec": {
      "name": "python3",
      "display_name": "Python 3"
    },
    "language_info": {
      "name": "python"
    }
  },
  "cells": [
    {
      "cell_type": "markdown",
      "metadata": {
        "id": "view-in-github",
        "colab_type": "text"
      },
      "source": [
        "<a href=\"https://colab.research.google.com/github/santhosharun18/pythonlab/blob/main/tuple.ipynb\" target=\"_parent\"><img src=\"https://colab.research.google.com/assets/colab-badge.svg\" alt=\"Open In Colab\"/></a>"
      ]
    },
    {
      "cell_type": "markdown",
      "metadata": {
        "id": "_lfNrq46MFdQ"
      },
      "source": [
        "**Create a Tuple**"
      ]
    },
    {
      "cell_type": "code",
      "metadata": {
        "id": "VqYcb6M0MGiU"
      },
      "source": [
        "thistuple = (\"apple\", \"banana\", \"cherry\")\n",
        "print(thistuple)"
      ],
      "execution_count": null,
      "outputs": []
    },
    {
      "cell_type": "markdown",
      "metadata": {
        "id": "kocNwrw1MJKO"
      },
      "source": [
        "**Tuples allow duplicate values**"
      ]
    },
    {
      "cell_type": "code",
      "metadata": {
        "id": "J39Gak-YMOEG"
      },
      "source": [
        "thistuple = (\"apple\", \"banana\", \"cherry\", \"apple\", \"cherry\")\n",
        "print(thistuple)"
      ],
      "execution_count": null,
      "outputs": []
    },
    {
      "cell_type": "markdown",
      "metadata": {
        "id": "J7HbG02xMUp5"
      },
      "source": [
        "**Print the number of items in the tuple**"
      ]
    },
    {
      "cell_type": "code",
      "metadata": {
        "id": "Ax3PpEovMXQS"
      },
      "source": [
        "thistuple = (\"apple\", \"banana\", \"cherry\")\n",
        "print(len(thistuple))"
      ],
      "execution_count": null,
      "outputs": []
    },
    {
      "cell_type": "markdown",
      "metadata": {
        "id": "1-vVI7axMkki"
      },
      "source": [
        "**Tuple items can be of any data type**"
      ]
    },
    {
      "cell_type": "code",
      "metadata": {
        "id": "gVw5r6_SMl_7"
      },
      "source": [
        "tuple1 = (\"apple\", \"banana\", \"cherry\")\n",
        "tuple2 = (1, 5, 7, 9, 3)\n",
        "tuple3 = (True, False, False)\n",
        "tuple4 = (\"abc\", 34, True, 40, \"male\")"
      ],
      "execution_count": null,
      "outputs": []
    },
    {
      "cell_type": "markdown",
      "metadata": {
        "id": "tDsLjAd7MzG9"
      },
      "source": [
        "**What is the data type of a tuple?**"
      ]
    },
    {
      "cell_type": "code",
      "metadata": {
        "id": "v2FhvMvOM06s"
      },
      "source": [
        "mytuple = (\"apple\", \"banana\", \"cherry\")\n",
        "print(type(mytuple))"
      ],
      "execution_count": null,
      "outputs": []
    },
    {
      "cell_type": "markdown",
      "metadata": {
        "id": "NIXB6nXBM4f1"
      },
      "source": [
        "**Using the tuple() method to make a tuple**"
      ]
    },
    {
      "cell_type": "code",
      "metadata": {
        "id": "aO8DXqC5NBzq"
      },
      "source": [
        "thistuple = tuple((\"apple\", \"banana\", \"cherry\")) # note the double round-brackets\n",
        "print(thistuple)"
      ],
      "execution_count": null,
      "outputs": []
    },
    {
      "cell_type": "markdown",
      "metadata": {
        "id": "qJFjX2SpNC6t"
      },
      "source": [
        "**Print the second item in the tuple**"
      ]
    },
    {
      "cell_type": "code",
      "metadata": {
        "id": "MgFJCuX8NPE3"
      },
      "source": [
        "thistuple = (\"apple\", \"banana\", \"cherry\")\n",
        "print(thistuple[1])"
      ],
      "execution_count": null,
      "outputs": []
    },
    {
      "cell_type": "markdown",
      "metadata": {
        "id": "X_TjySPoNS6J"
      },
      "source": [
        "**Print the last item of the tuple**"
      ]
    },
    {
      "cell_type": "code",
      "metadata": {
        "id": "r4a8FlqBNZCA"
      },
      "source": [
        "thistuple = (\"apple\", \"banana\", \"cherry\")\n",
        "print(thistuple[-1])"
      ],
      "execution_count": null,
      "outputs": []
    },
    {
      "cell_type": "markdown",
      "metadata": {
        "id": "ooehx2TENenh"
      },
      "source": [
        "**Return the third, fourth, and fifth item**"
      ]
    },
    {
      "cell_type": "code",
      "metadata": {
        "id": "m1gWgTIGNgra"
      },
      "source": [
        "thistuple = (\"apple\", \"banana\", \"cherry\", \"orange\", \"kiwi\", \"melon\", \"mango\")\n",
        "print(thistuple[2:5])"
      ],
      "execution_count": null,
      "outputs": []
    },
    {
      "cell_type": "markdown",
      "metadata": {
        "id": "6ceotsOuNq_j"
      },
      "source": [
        "**returns the items from the beginning to, but NOT included, \"kiwi\"**"
      ]
    },
    {
      "cell_type": "code",
      "metadata": {
        "id": "QE45raVSNvUl"
      },
      "source": [
        "thistuple = (\"apple\", \"banana\", \"cherry\", \"orange\", \"kiwi\", \"melon\", \"mango\")\n",
        "print(thistuple[:4])"
      ],
      "execution_count": null,
      "outputs": []
    },
    {
      "cell_type": "markdown",
      "metadata": {
        "id": "E9KYB8UPN2Zo"
      },
      "source": [
        " **example returns the items from \"cherry\" and to the end**"
      ]
    },
    {
      "cell_type": "code",
      "metadata": {
        "id": "FfjtjVIkN6xA"
      },
      "source": [
        "thistuple = (\"apple\", \"banana\", \"cherry\", \"orange\", \"kiwi\", \"melon\", \"mango\")\n",
        "print(thistuple[2:])"
      ],
      "execution_count": null,
      "outputs": []
    },
    {
      "cell_type": "markdown",
      "metadata": {
        "id": "H-1v2_0mOBYh"
      },
      "source": [
        "**returns the items from index -4 (included) to index -1 (excluded)**"
      ]
    },
    {
      "cell_type": "code",
      "metadata": {
        "id": "xPgU2VtpOFQ_"
      },
      "source": [
        "thistuple = (\"apple\", \"banana\", \"cherry\", \"orange\", \"kiwi\", \"melon\", \"mango\")\n",
        "print(thistuple[-4:-1])"
      ],
      "execution_count": null,
      "outputs": []
    },
    {
      "cell_type": "markdown",
      "metadata": {
        "id": "sWs3OZKgOLRv"
      },
      "source": [
        "**Check if \"apple\" is present in the tuple**"
      ]
    },
    {
      "cell_type": "code",
      "metadata": {
        "id": "0yAnR_mFONKR"
      },
      "source": [
        "thistuple = (\"apple\", \"banana\", \"cherry\")\n",
        "if \"melon\" in thistuple:\n",
        "  print(\"Yes, 'apple' is in the fruits tuple\")"
      ],
      "execution_count": null,
      "outputs": []
    },
    {
      "cell_type": "markdown",
      "metadata": {
        "id": "ZaS3UmryOlk9"
      },
      "source": [
        "**Convert the tuple into a list to be able to change it**"
      ]
    },
    {
      "cell_type": "code",
      "metadata": {
        "id": "hxwbfzZdOpSP",
        "colab": {
          "base_uri": "https://localhost:8080/"
        },
        "outputId": "0243c480-b9d3-46e8-be1e-79ef486171c4"
      },
      "source": [
        "x = (\"apple\", \"banana\", \"cherry\")\n",
        "y = list(x)\n",
        "y[1] = \"kiwi\"\n",
        "x = tuple(y)\n",
        "\n",
        "print(x)"
      ],
      "execution_count": null,
      "outputs": [
        {
          "output_type": "stream",
          "name": "stdout",
          "text": [
            "('apple', 'kiwi', 'cherry')\n"
          ]
        }
      ]
    },
    {
      "cell_type": "markdown",
      "metadata": {
        "id": "Tlji0Ai5O1yQ"
      },
      "source": [
        "**Convert the tuple into a list, add \"orange\", and convert it back into a tuple**"
      ]
    },
    {
      "cell_type": "code",
      "metadata": {
        "id": "qqus4oC_O7ze"
      },
      "source": [
        "thistuple = (\"apple\", \"banana\", \"cherry\")\n",
        "y = list(thistuple)\n",
        "y.append(\"orange\")\n",
        "thistuple = tuple(y)\n",
        "print(thistuple)"
      ],
      "execution_count": null,
      "outputs": []
    },
    {
      "cell_type": "markdown",
      "metadata": {
        "id": "WtwZEyGBPBa3"
      },
      "source": [
        "**Create a new tuple with the value \"orange\", and add that tuple**"
      ]
    },
    {
      "cell_type": "code",
      "metadata": {
        "id": "UPh1dvj2PDbZ"
      },
      "source": [
        "thistuple = (\"apple\", \"banana\", \"cherry\")\n",
        "y = (\"orange\",)\n",
        "thistuple += y\n",
        "\n",
        "print(thistuple)"
      ],
      "execution_count": null,
      "outputs": []
    },
    {
      "cell_type": "markdown",
      "metadata": {
        "id": "M3tmECJKPP_6"
      },
      "source": [
        "**Convert the tuple into a list, remove \"apple\", and convert it back into a tuple**"
      ]
    },
    {
      "cell_type": "code",
      "metadata": {
        "id": "jcK7rsgJPSK8"
      },
      "source": [
        "thistuple = (\"apple\", \"banana\", \"cherry\")\n",
        "y = list(thistuple)\n",
        "y.remove(\"apple\")\n",
        "thistuple = tuple(y)\n",
        "print(thistuple)"
      ],
      "execution_count": null,
      "outputs": []
    },
    {
      "cell_type": "markdown",
      "metadata": {
        "id": "iWkCsTECPX3D"
      },
      "source": [
        "**The del keyword can delete the tuple completely**"
      ]
    },
    {
      "cell_type": "code",
      "metadata": {
        "id": "w8tTz-E7PfvU"
      },
      "source": [
        "thistuple = (\"apple\", \"banana\", \"cherry\")\n",
        "del thistuple\n",
        "print(thistuple)"
      ],
      "execution_count": null,
      "outputs": []
    },
    {
      "cell_type": "markdown",
      "metadata": {
        "id": "R1J90LKQPtau"
      },
      "source": [
        "**Unpacking a tuple**"
      ]
    },
    {
      "cell_type": "code",
      "metadata": {
        "id": "fi7s5nWSPvwV"
      },
      "source": [
        "fruits = (\"apple\", \"banana\", \"cherry\")\n",
        "\n",
        "(green, yellow, red) = fruits\n",
        "\n",
        "print(green)\n",
        "print(yellow)\n",
        "print(red)"
      ],
      "execution_count": null,
      "outputs": []
    },
    {
      "cell_type": "markdown",
      "metadata": {
        "id": "zHwbtTpzQFE4"
      },
      "source": [
        "**Assign the rest of the values as a list called \"red\"**"
      ]
    },
    {
      "cell_type": "code",
      "metadata": {
        "id": "ROn_Q6IiQIuZ"
      },
      "source": [
        "fruits = (\"apple\", \"banana\", \"cherry\", \"strawberry\", \"raspberry\")\n",
        "\n",
        "(green, yellow, *red) = fruits\n",
        "\n",
        "print(green)\n",
        "print(yellow)\n",
        "print(red)\n"
      ],
      "execution_count": null,
      "outputs": []
    },
    {
      "cell_type": "markdown",
      "metadata": {
        "id": "Vp1AI_UzQP26"
      },
      "source": [
        "**Add a list of values the \"tropic\" variable**"
      ]
    },
    {
      "cell_type": "code",
      "metadata": {
        "id": "dKHqBvXPQRn0"
      },
      "source": [
        "fruits = (\"apple\", \"mango\", \"papaya\", \"pineapple\", \"cherry\")\n",
        "\n",
        "(green, *tropic, red) = fruits\n",
        "\n",
        "print(green)\n",
        "print(tropic)\n",
        "print(red)"
      ],
      "execution_count": null,
      "outputs": []
    },
    {
      "cell_type": "markdown",
      "metadata": {
        "id": "eAaNP5xwQZCV"
      },
      "source": [
        "**Iterate through the items and print the values**"
      ]
    },
    {
      "cell_type": "code",
      "metadata": {
        "id": "r_jJ37xYQdLM"
      },
      "source": [
        "thistuple = (\"apple\", \"banana\", \"cherry\")\n",
        "for x in thistuple:\n",
        "  print(x)"
      ],
      "execution_count": null,
      "outputs": []
    },
    {
      "cell_type": "markdown",
      "metadata": {
        "id": "q5fB1fDoQhWi"
      },
      "source": [
        "**Print all items by referring to their index number**"
      ]
    },
    {
      "cell_type": "code",
      "metadata": {
        "id": "kB_9Sa7-Qjv-"
      },
      "source": [
        "thistuple = (\"apple\", \"banana\", \"cherry\")\n",
        "for i in range(len(thistuple)):\n",
        "  print(thistuple[i])"
      ],
      "execution_count": null,
      "outputs": []
    },
    {
      "cell_type": "markdown",
      "metadata": {
        "id": "TXtyriYTQnLF"
      },
      "source": [
        "**Print all items, using a while loop to go through all the index numbers**"
      ]
    },
    {
      "cell_type": "code",
      "metadata": {
        "id": "WLrcNWv1QrjH"
      },
      "source": [
        "thistuple = (\"apple\", \"banana\", \"cherry\")\n",
        "i = 0\n",
        "while i < len(thistuple):\n",
        "  print(thistuple[i])\n",
        "  i = i + 1"
      ],
      "execution_count": null,
      "outputs": []
    },
    {
      "cell_type": "markdown",
      "metadata": {
        "id": "JLu7KNpWQyRf"
      },
      "source": [
        "**Join two tuples**"
      ]
    },
    {
      "cell_type": "code",
      "metadata": {
        "id": "07IkhntPQ2JX"
      },
      "source": [
        "tuple1 = (\"a\", \"b\" , \"c\")\n",
        "tuple2 = (1, 2, 3)\n",
        "\n",
        "tuple3 = tuple1 + tuple2\n",
        "print(tuple3)"
      ],
      "execution_count": null,
      "outputs": []
    },
    {
      "cell_type": "markdown",
      "metadata": {
        "id": "HhAu5nAiQ7zI"
      },
      "source": [
        "**Multiply the fruits tuple by 2**"
      ]
    },
    {
      "cell_type": "code",
      "metadata": {
        "id": "lduHb_iVRAfg"
      },
      "source": [
        "fruits = (\"apple\", \"banana\", \"cherry\")\n",
        "mytuple = fruits * 2\n",
        "\n",
        "print(mytuple)"
      ],
      "execution_count": null,
      "outputs": []
    }
  ]
}