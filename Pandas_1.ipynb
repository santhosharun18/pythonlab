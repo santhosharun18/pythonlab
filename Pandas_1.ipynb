{
  "nbformat": 4,
  "nbformat_minor": 0,
  "metadata": {
    "colab": {
      "name": "Pandas_1.ipynb",
      "provenance": [],
      "include_colab_link": true
    },
    "kernelspec": {
      "name": "python3",
      "display_name": "Python 3"
    },
    "language_info": {
      "name": "python"
    }
  },
  "cells": [
    {
      "cell_type": "markdown",
      "metadata": {
        "id": "view-in-github",
        "colab_type": "text"
      },
      "source": [
        "<a href=\"https://colab.research.google.com/github/santhosharun18/pythonlab/blob/main/Pandas_1.ipynb\" target=\"_parent\"><img src=\"https://colab.research.google.com/assets/colab-badge.svg\" alt=\"Open In Colab\"/></a>"
      ]
    },
    {
      "cell_type": "markdown",
      "metadata": {
        "id": "uc0ATTCGtGwJ"
      },
      "source": [
        "**Pandas is imported and ready to use**"
      ]
    },
    {
      "cell_type": "code",
      "metadata": {
        "id": "lPzcCkgYtRsy",
        "colab": {
          "base_uri": "https://localhost:8080/"
        },
        "outputId": "a7a50bca-d98e-475d-b2c6-996a26196220"
      },
      "source": [
        "import pandas\n",
        "\n",
        "mydataset = {\n",
        "  'cars': [\"BMW\", \"Volvo\", \"Ford\"],\n",
        "  'passings': [3, 7, 2]\n",
        "}\n",
        "\n",
        "myvar = pandas.DataFrame(mydataset)\n",
        "\n",
        "print(myvar)"
      ],
      "execution_count": 1,
      "outputs": [
        {
          "output_type": "stream",
          "name": "stdout",
          "text": [
            "    cars  passings\n",
            "0    BMW         3\n",
            "1  Volvo         7\n",
            "2   Ford         2\n"
          ]
        }
      ]
    },
    {
      "cell_type": "markdown",
      "metadata": {
        "id": "CrdMf3A_tVJR"
      },
      "source": [
        "**Create an alias with the as keyword while importing**"
      ]
    },
    {
      "cell_type": "code",
      "metadata": {
        "id": "3m-UXO42tbHD",
        "colab": {
          "base_uri": "https://localhost:8080/"
        },
        "outputId": "80e3af6c-34cb-436e-bf16-9bea154dbd76"
      },
      "source": [
        "import pandas as pd\n",
        "\n",
        "mydataset = {\n",
        "  'cars': [\"BMW\", \"Volvo\", \"Ford\"],\n",
        "  'passings': [3, 7, 2]\n",
        "}\n",
        "\n",
        "myvar = pd.DataFrame(mydataset)\n",
        "\n",
        "print(myvar)"
      ],
      "execution_count": 2,
      "outputs": [
        {
          "output_type": "stream",
          "name": "stdout",
          "text": [
            "    cars  passings\n",
            "0    BMW         3\n",
            "1  Volvo         7\n",
            "2   Ford         2\n"
          ]
        }
      ]
    },
    {
      "cell_type": "markdown",
      "metadata": {
        "id": "yFrMvtH2teYK"
      },
      "source": [
        "**Checking Pandas Version**"
      ]
    },
    {
      "cell_type": "code",
      "metadata": {
        "id": "JQULEc3Dtip6"
      },
      "source": [
        "import pandas as pd\n",
        "\n",
        "print(pd.__version__)"
      ],
      "execution_count": null,
      "outputs": []
    },
    {
      "cell_type": "markdown",
      "metadata": {
        "id": "SmnnEfa2tm-R"
      },
      "source": [
        "**A Pandas Series is like a column in a table.**"
      ]
    },
    {
      "cell_type": "code",
      "metadata": {
        "id": "w_2y6YwSttSV"
      },
      "source": [
        "import pandas as pd\n",
        "\n",
        "a = [1, 7, 2]\n",
        "\n",
        "myvar = pd.Series(a)\n",
        "\n",
        "print(myvar)"
      ],
      "execution_count": null,
      "outputs": []
    },
    {
      "cell_type": "markdown",
      "metadata": {
        "id": "L0SZ-HwCtxMy"
      },
      "source": [
        "**With the index argument, you can name your own labels**"
      ]
    },
    {
      "cell_type": "code",
      "metadata": {
        "id": "jOxY29i9t5b6"
      },
      "source": [
        "import pandas as pd\n",
        "\n",
        "a = [1, 7, 2]\n",
        "\n",
        "myvar = pd.Series(a, index = [\"x\", \"y\", \"z\"])\n",
        "\n",
        "print(myvar)\n"
      ],
      "execution_count": null,
      "outputs": []
    },
    {
      "cell_type": "markdown",
      "metadata": {
        "id": "C9avIlPft8iS"
      },
      "source": [
        "**Create a simple Pandas Series from a dictionary**"
      ]
    },
    {
      "cell_type": "code",
      "metadata": {
        "id": "-qzVNh9euFzS"
      },
      "source": [
        "import pandas as pd\n",
        "\n",
        "calories = {\"day1\": 420, \"day2\": 380, \"day3\": 390}\n",
        "\n",
        "myvar = pd.Series(calories)\n",
        "\n",
        "print(myvar)"
      ],
      "execution_count": null,
      "outputs": []
    },
    {
      "cell_type": "markdown",
      "metadata": {
        "id": "gc3IFhmKuHs0"
      },
      "source": [
        "**Create a Series using only data from \"day1\" and \"day2\"**"
      ]
    },
    {
      "cell_type": "code",
      "metadata": {
        "id": "S2BJ_cbHuQ_Z"
      },
      "source": [
        "import pandas as pd\n",
        "\n",
        "calories = {\"day1\": 420, \"day2\": 380, \"day3\": 390}\n",
        "\n",
        "myvar = pd.Series(calories, index = [\"day1\", \"day2\"])\n",
        "\n",
        "print(myvar)"
      ],
      "execution_count": null,
      "outputs": []
    },
    {
      "cell_type": "markdown",
      "metadata": {
        "id": "WhcZagowufzj"
      },
      "source": [
        "**Create a DataFrame from two Series**"
      ]
    },
    {
      "cell_type": "code",
      "metadata": {
        "id": "nCyIJQ81ul_q"
      },
      "source": [
        "import pandas as pd\n",
        "\n",
        "data = {\n",
        "  \"calories\": [420, 380, 390],\n",
        "  \"duration\": [50, 40, 45]\n",
        "}\n",
        "\n",
        "myvar = pd.DataFrame(data)\n",
        "\n",
        "print(myvar)"
      ],
      "execution_count": null,
      "outputs": []
    },
    {
      "cell_type": "markdown",
      "metadata": {
        "id": "wyycZ6-Cu1TT"
      },
      "source": [
        "**Create a simple Pandas DataFrame**"
      ]
    },
    {
      "cell_type": "code",
      "metadata": {
        "id": "KOH0XA1lu3oB"
      },
      "source": [
        "import pandas as pd\n",
        "\n",
        "data = {\n",
        "  \"calories\": [420, 380, 390],\n",
        "  \"duration\": [50, 40, 45]\n",
        "}\n",
        "\n",
        "#load data into a DataFrame object:\n",
        "df = pd.DataFrame(data)\n",
        "\n",
        "print(df) "
      ],
      "execution_count": null,
      "outputs": []
    },
    {
      "cell_type": "markdown",
      "metadata": {
        "id": "DsgdGs0mu7KE"
      },
      "source": [
        "**With the index argument, you can name your own indexes**"
      ]
    },
    {
      "cell_type": "code",
      "metadata": {
        "id": "wBRrcnhIvE75"
      },
      "source": [
        "import pandas as pd\n",
        "\n",
        "data = {\n",
        "  \"calories\": [420, 380, 390],\n",
        "  \"duration\": [50, 40, 45]\n",
        "}\n",
        "\n",
        "df = pd.DataFrame(data, index = [\"day1\", \"day2\", \"day3\"])\n",
        "\n",
        "print(df) "
      ],
      "execution_count": null,
      "outputs": []
    }
  ]
}