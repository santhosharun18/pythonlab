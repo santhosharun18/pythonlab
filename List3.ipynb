{
  "nbformat": 4,
  "nbformat_minor": 0,
  "metadata": {
    "colab": {
      "name": "List3.ipynb",
      "provenance": [],
      "include_colab_link": true
    },
    "kernelspec": {
      "name": "python3",
      "display_name": "Python 3"
    },
    "language_info": {
      "name": "python"
    }
  },
  "cells": [
    {
      "cell_type": "markdown",
      "metadata": {
        "id": "view-in-github",
        "colab_type": "text"
      },
      "source": [
        "<a href=\"https://colab.research.google.com/github/santhosharun18/pythonlab/blob/main/List3.ipynb\" target=\"_parent\"><img src=\"https://colab.research.google.com/assets/colab-badge.svg\" alt=\"Open In Colab\"/></a>"
      ]
    },
    {
      "cell_type": "markdown",
      "metadata": {
        "id": "JLMIEkEeJCGF"
      },
      "source": [
        "**Print all items in the list, one by one**"
      ]
    },
    {
      "cell_type": "code",
      "metadata": {
        "id": "q2lnGzpuJGlF",
        "colab": {
          "base_uri": "https://localhost:8080/"
        },
        "outputId": "048b9698-45f1-474f-a565-a4b6200da9a5"
      },
      "source": [
        "thislist = [\"apple\", \"banana\", \"cherry\"]\n",
        "for x in thislist:\n",
        "  print(x)"
      ],
      "execution_count": 1,
      "outputs": [
        {
          "output_type": "stream",
          "name": "stdout",
          "text": [
            "apple\n",
            "banana\n",
            "cherry\n"
          ]
        }
      ]
    },
    {
      "cell_type": "markdown",
      "metadata": {
        "id": "24wlQ3JgJJZ9"
      },
      "source": [
        "**Print all items by referring to their index number**"
      ]
    },
    {
      "cell_type": "code",
      "metadata": {
        "id": "NkdvI-iGJNJN",
        "colab": {
          "base_uri": "https://localhost:8080/"
        },
        "outputId": "e8ef2e56-1676-4c0d-d312-917597893561"
      },
      "source": [
        "thislist = [\"apple\", \"banana\", \"cherry\"]\n",
        "for i in range(len(thislist)):\n",
        "  print(thislist[i])"
      ],
      "execution_count": 5,
      "outputs": [
        {
          "output_type": "stream",
          "name": "stdout",
          "text": [
            "apple\n",
            "banana\n",
            "cherry\n"
          ]
        }
      ]
    },
    {
      "cell_type": "markdown",
      "metadata": {
        "id": "AXYQIa5nJSjn"
      },
      "source": [
        "**Print all items, using a while loop to go through all the index numbers**"
      ]
    },
    {
      "cell_type": "code",
      "metadata": {
        "id": "AHFpnhlqJYP_",
        "colab": {
          "base_uri": "https://localhost:8080/"
        },
        "outputId": "d187d404-ceff-4051-8f67-0f93a72e4ad4"
      },
      "source": [
        "thislist = [\"apple\", \"banana\", \"cherry\"]\n",
        "i = 0\n",
        "while i < len(thislist):\n",
        "  print(thislist[i])\n",
        "  i = i + 1"
      ],
      "execution_count": 6,
      "outputs": [
        {
          "output_type": "stream",
          "name": "stdout",
          "text": [
            "apple\n",
            "banana\n",
            "cherry\n"
          ]
        }
      ]
    },
    {
      "cell_type": "markdown",
      "metadata": {
        "id": "CbYQiS8sJe9H"
      },
      "source": [
        "**A short hand for loop that will print all items in a list**"
      ]
    },
    {
      "cell_type": "code",
      "metadata": {
        "id": "eQZ5hjl2Jhd4",
        "colab": {
          "base_uri": "https://localhost:8080/"
        },
        "outputId": "63672ed4-b55e-4677-ed46-aa40c2601544"
      },
      "source": [
        "thislist = [\"apple\", \"banana\", \"cherry\"]\n",
        "[print(x) for x in thislist]"
      ],
      "execution_count": 7,
      "outputs": [
        {
          "output_type": "stream",
          "name": "stdout",
          "text": [
            "apple\n",
            "banana\n",
            "cherry\n"
          ]
        },
        {
          "output_type": "execute_result",
          "data": {
            "text/plain": [
              "[None, None, None]"
            ]
          },
          "metadata": {},
          "execution_count": 7
        }
      ]
    },
    {
      "cell_type": "markdown",
      "metadata": {
        "id": "z9_ILGGXJj-Y"
      },
      "source": [
        "**Sort the list alphabetically**"
      ]
    },
    {
      "cell_type": "code",
      "metadata": {
        "id": "NcUG1ciFJuNj",
        "colab": {
          "base_uri": "https://localhost:8080/"
        },
        "outputId": "bd8ec512-7af7-4557-d720-80986b7c2a0c"
      },
      "source": [
        "thislist = [\"orange\", \"mango\", \"kiwi\", \"pineapple\", \"banana\"]\n",
        "thislist.sort()\n",
        "print(thislist)\n"
      ],
      "execution_count": 8,
      "outputs": [
        {
          "output_type": "stream",
          "name": "stdout",
          "text": [
            "['banana', 'kiwi', 'mango', 'orange', 'pineapple']\n"
          ]
        }
      ]
    },
    {
      "cell_type": "markdown",
      "metadata": {
        "id": "6Uy_x9j7Jw6D"
      },
      "source": [
        "**Sort the list numerically**"
      ]
    },
    {
      "cell_type": "code",
      "metadata": {
        "id": "nV6NvXX6J0-E",
        "colab": {
          "base_uri": "https://localhost:8080/"
        },
        "outputId": "31afd5c6-795d-4f83-e9ec-18b46a82cd58"
      },
      "source": [
        "thislist = [100, 50, 65, 82, 23]\n",
        "thislist.sort()\n",
        "print(thislist)"
      ],
      "execution_count": 9,
      "outputs": [
        {
          "output_type": "stream",
          "name": "stdout",
          "text": [
            "[23, 50, 65, 82, 100]\n"
          ]
        }
      ]
    },
    {
      "cell_type": "markdown",
      "metadata": {
        "id": "s64CqSSqJ4Xc"
      },
      "source": [
        "**Sort the list descending**"
      ]
    },
    {
      "cell_type": "code",
      "metadata": {
        "id": "A_sAJANBJ8S9",
        "colab": {
          "base_uri": "https://localhost:8080/"
        },
        "outputId": "2a2772c3-8dab-4f1d-ba42-0e2280febc5c"
      },
      "source": [
        "thislist = [\"orange\", \"mango\", \"kiwi\", \"pineapple\", \"banana\"]\n",
        "thislist.sort(reverse = True)\n",
        "print(thislist)"
      ],
      "execution_count": 10,
      "outputs": [
        {
          "output_type": "stream",
          "name": "stdout",
          "text": [
            "['pineapple', 'orange', 'mango', 'kiwi', 'banana']\n"
          ]
        }
      ]
    },
    {
      "cell_type": "markdown",
      "metadata": {
        "id": "43h7mdHOKDNG"
      },
      "source": [
        "**Sort the list descending**"
      ]
    },
    {
      "cell_type": "code",
      "metadata": {
        "id": "iF7zLeZQKF6F",
        "colab": {
          "base_uri": "https://localhost:8080/"
        },
        "outputId": "e3002157-2449-4d86-c6fb-888abe0baa98"
      },
      "source": [
        "thislist = [100, 50, 65, 82, 23]\n",
        "thislist.sort(reverse = True)\n",
        "print(thislist)"
      ],
      "execution_count": 11,
      "outputs": [
        {
          "output_type": "stream",
          "name": "stdout",
          "text": [
            "[100, 82, 65, 50, 23]\n"
          ]
        }
      ]
    },
    {
      "cell_type": "markdown",
      "metadata": {
        "id": "6GsgZ5TLKUQ3"
      },
      "source": [
        "**Sort the list based on how close the number is to 50**"
      ]
    },
    {
      "cell_type": "code",
      "metadata": {
        "id": "csduLN4UKX0D",
        "colab": {
          "base_uri": "https://localhost:8080/"
        },
        "outputId": "88512a48-cc7b-428d-d6e6-a1f6d403f774"
      },
      "source": [
        "def myfunc(n):\n",
        "  return abs(n - 50)\n",
        "\n",
        "thislist = [100, 50, 65, 82, 23]\n",
        "thislist.sort(key = myfunc)\n",
        "print(thislist)"
      ],
      "execution_count": 12,
      "outputs": [
        {
          "output_type": "stream",
          "name": "stdout",
          "text": [
            "[50, 65, 23, 82, 100]\n"
          ]
        }
      ]
    },
    {
      "cell_type": "markdown",
      "metadata": {
        "id": "1isojn_dKlN6"
      },
      "source": [
        "**Case sensitive sorting can give an unexpected result**"
      ]
    },
    {
      "cell_type": "code",
      "metadata": {
        "id": "DX62Up2NKokT",
        "colab": {
          "base_uri": "https://localhost:8080/"
        },
        "outputId": "869c993d-42aa-43af-ee20-ce0d53e151e0"
      },
      "source": [
        "thislist = [\"banana\", \"Orange\", \"Kiwi\", \"cherry\"]\n",
        "thislist.sort()\n",
        "print(thislist)"
      ],
      "execution_count": 13,
      "outputs": [
        {
          "output_type": "stream",
          "name": "stdout",
          "text": [
            "['Kiwi', 'Orange', 'banana', 'cherry']\n"
          ]
        }
      ]
    },
    {
      "cell_type": "markdown",
      "metadata": {
        "id": "EJjV9KkkKtjy"
      },
      "source": [
        "**Perform a case-insensitive sort of the list**"
      ]
    },
    {
      "cell_type": "code",
      "metadata": {
        "id": "nz42z31WKwsT"
      },
      "source": [
        "thislist = [\"banana\", \"Orange\", \"Kiwi\", \"cherry\"]\n",
        "thislist.sort(key = str.lower)\n",
        "print(thislist)"
      ],
      "execution_count": null,
      "outputs": []
    },
    {
      "cell_type": "markdown",
      "metadata": {
        "id": "aQpfTA5BK7MT"
      },
      "source": [
        "**Reverse the order of the list items**"
      ]
    },
    {
      "cell_type": "code",
      "metadata": {
        "id": "N1vtjrrRK-pM",
        "colab": {
          "base_uri": "https://localhost:8080/"
        },
        "outputId": "16fb7378-e75c-420f-f9ed-93686575e953"
      },
      "source": [
        "thislist = [\"banana\", \"Orange\", \"Kiwi\", \"cherry\"]\n",
        "thislist.reverse()\n",
        "print(thislist)"
      ],
      "execution_count": 15,
      "outputs": [
        {
          "output_type": "stream",
          "name": "stdout",
          "text": [
            "['cherry', 'Kiwi', 'Orange', 'banana']\n"
          ]
        }
      ]
    },
    {
      "cell_type": "markdown",
      "metadata": {
        "id": "K3UD8xqwLJnO"
      },
      "source": [
        "**Make a copy of a list with the copy() method**"
      ]
    },
    {
      "cell_type": "code",
      "metadata": {
        "id": "4bkBVXgzLN1-",
        "colab": {
          "base_uri": "https://localhost:8080/"
        },
        "outputId": "1248ca08-7312-4227-8b52-536da3046134"
      },
      "source": [
        "thislist = [\"apple\", \"banana\", \"cherry\"]\n",
        "mylist = thislist.copy()\n",
        "print(mylist)"
      ],
      "execution_count": 14,
      "outputs": [
        {
          "output_type": "stream",
          "name": "stdout",
          "text": [
            "['apple', 'banana', 'cherry']\n"
          ]
        }
      ]
    },
    {
      "cell_type": "markdown",
      "metadata": {
        "id": "ka9h6QLcLSvm"
      },
      "source": [
        "**Make a copy of a list with the list() method**"
      ]
    },
    {
      "cell_type": "code",
      "metadata": {
        "id": "GCJL4kJcRNrb",
        "colab": {
          "base_uri": "https://localhost:8080/"
        },
        "outputId": "c500ab3b-15da-4d9d-fa72-baf991a0bf28"
      },
      "source": [
        "thislist = [\"apple\", \"banana\", \"cherry\"]\n",
        "mylist = list(thislist)\n",
        "print(mylist)"
      ],
      "execution_count": 16,
      "outputs": [
        {
          "output_type": "stream",
          "name": "stdout",
          "text": [
            "['apple', 'banana', 'cherry']\n"
          ]
        }
      ]
    },
    {
      "cell_type": "markdown",
      "metadata": {
        "id": "s0x0BTh9Lc4x"
      },
      "source": [
        "**Join two list**"
      ]
    },
    {
      "cell_type": "code",
      "metadata": {
        "id": "LbGRuuz7Le8b",
        "colab": {
          "base_uri": "https://localhost:8080/"
        },
        "outputId": "a30fa707-2538-4b91-e1fc-ce8630a371fd"
      },
      "source": [
        "list1 = [\"a\", \"b\", \"c\"]\n",
        "list2 = [1, 2, 3]\n",
        "\n",
        "list3 = list1 + list2\n",
        "print(list3)"
      ],
      "execution_count": 20,
      "outputs": [
        {
          "output_type": "stream",
          "name": "stdout",
          "text": [
            "['a', 'b', 'c', 1, 2, 3]\n"
          ]
        }
      ]
    },
    {
      "cell_type": "markdown",
      "metadata": {
        "id": "jIe_BtpjLkXB"
      },
      "source": [
        "**Append list2 into list1**"
      ]
    },
    {
      "cell_type": "code",
      "metadata": {
        "id": "StFQymm-Lmfr",
        "colab": {
          "base_uri": "https://localhost:8080/"
        },
        "outputId": "31c0cc43-7470-43cb-e94d-9a08deb8c29a"
      },
      "source": [
        "list1 = [\"a\", \"b\" , \"c\"]\n",
        "list2 = [1, 2, 3]\n",
        "\n",
        "for x in list2:\n",
        "  list1.append(x)\n",
        "\n",
        "print(list1)"
      ],
      "execution_count": 18,
      "outputs": [
        {
          "output_type": "stream",
          "name": "stdout",
          "text": [
            "['a', 'b', 'c', 1, 2, 3]\n"
          ]
        }
      ]
    },
    {
      "cell_type": "markdown",
      "metadata": {
        "id": "7lgR4QkYLs8T"
      },
      "source": [
        "**Use the extend() method to add list2 at the end of list1**"
      ]
    },
    {
      "cell_type": "code",
      "metadata": {
        "id": "Ugac1XuQLxqr",
        "colab": {
          "base_uri": "https://localhost:8080/"
        },
        "outputId": "dded29ff-9d80-4b21-d084-228fe3d4853b"
      },
      "source": [
        "list1 = [\"a\", \"b\" , \"c\"]\n",
        "list2 = [1, 2, 3]\n",
        "\n",
        "list2.extend(list1)\n",
        "print(list2)"
      ],
      "execution_count": 19,
      "outputs": [
        {
          "output_type": "stream",
          "name": "stdout",
          "text": [
            "[1, 2, 3, 'a', 'b', 'c']\n"
          ]
        }
      ]
    }
  ]
}