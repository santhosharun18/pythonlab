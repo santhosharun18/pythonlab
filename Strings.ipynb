{
  "nbformat": 4,
  "nbformat_minor": 0,
  "metadata": {
    "colab": {
      "name": "Strings.ipynb",
      "provenance": [],
      "include_colab_link": true
    },
    "kernelspec": {
      "name": "python3",
      "display_name": "Python 3"
    },
    "language_info": {
      "name": "python"
    }
  },
  "cells": [
    {
      "cell_type": "markdown",
      "metadata": {
        "id": "view-in-github",
        "colab_type": "text"
      },
      "source": [
        "<a href=\"https://colab.research.google.com/github/santhosharun18/pythonlab/blob/main/Strings.ipynb\" target=\"_parent\"><img src=\"https://colab.research.google.com/assets/colab-badge.svg\" alt=\"Open In Colab\"/></a>"
      ]
    },
    {
      "cell_type": "code",
      "metadata": {
        "id": "qfWnbPxLMbj-",
        "colab": {
          "base_uri": "https://localhost:8080/"
        },
        "outputId": "f285474d-f2e1-4d03-8624-99b7b2d8b338"
      },
      "source": [
        "print(\"Hello\")\n",
        "print('Hello')"
      ],
      "execution_count": 2,
      "outputs": [
        {
          "output_type": "stream",
          "name": "stdout",
          "text": [
            "Hello\n",
            "Hello\n"
          ]
        }
      ]
    },
    {
      "cell_type": "code",
      "metadata": {
        "id": "B3QGPyHTMipU",
        "colab": {
          "base_uri": "https://localhost:8080/"
        },
        "outputId": "3c1bcc14-8b77-4102-ca01-cc7e0fa38804"
      },
      "source": [
        "a = \"Hello\"\n",
        "print(a)"
      ],
      "execution_count": 3,
      "outputs": [
        {
          "output_type": "stream",
          "name": "stdout",
          "text": [
            "Hello\n"
          ]
        }
      ]
    },
    {
      "cell_type": "code",
      "metadata": {
        "id": "68YQU7gZMlG1",
        "colab": {
          "base_uri": "https://localhost:8080/"
        },
        "outputId": "38a36ccd-0957-4fb0-9021-4fbcdb66b320"
      },
      "source": [
        "a = \"\"\"Lorem ipsum dolor sit amet,\n",
        "consectetur adipiscing elit,\n",
        "sed do eiusmod tempor incididunt\n",
        "ut labore et dolore magna aliqua.\"\"\"\n",
        "print(a)\n",
        "print(len(a))"
      ],
      "execution_count": 4,
      "outputs": [
        {
          "output_type": "stream",
          "name": "stdout",
          "text": [
            "Lorem ipsum dolor sit amet,\n",
            "consectetur adipiscing elit,\n",
            "sed do eiusmod tempor incididunt\n",
            "ut labore et dolore magna aliqua.\n",
            "123\n"
          ]
        }
      ]
    },
    {
      "cell_type": "code",
      "metadata": {
        "id": "nLUGph94Mrgl",
        "colab": {
          "base_uri": "https://localhost:8080/"
        },
        "outputId": "e6561dbc-8ef5-4cbd-a105-c05f5615f256"
      },
      "source": [
        "a = '''Lorem ipsum dolor sit amet,\n",
        "consectetur adipiscing elit,\n",
        "sed do eiusmod tempor incididunt\n",
        "ut labore et dolore magna aliqua.'''\n",
        "print(a)"
      ],
      "execution_count": 5,
      "outputs": [
        {
          "output_type": "stream",
          "name": "stdout",
          "text": [
            "Lorem ipsum dolor sit amet,\n",
            "consectetur adipiscing elit,\n",
            "sed do eiusmod tempor incididunt\n",
            "ut labore et dolore magna aliqua.\n"
          ]
        }
      ]
    },
    {
      "cell_type": "code",
      "metadata": {
        "id": "YjUeGU6tMvW9",
        "colab": {
          "base_uri": "https://localhost:8080/"
        },
        "outputId": "1af95cf9-08ff-41f1-faff-cab1f15b689b"
      },
      "source": [
        "a = \"Hello, World!\"\n",
        "print(a[0])"
      ],
      "execution_count": 6,
      "outputs": [
        {
          "output_type": "stream",
          "name": "stdout",
          "text": [
            "H\n"
          ]
        }
      ]
    },
    {
      "cell_type": "code",
      "metadata": {
        "id": "dj6Jmi3iMx8t",
        "colab": {
          "base_uri": "https://localhost:8080/"
        },
        "outputId": "f2b0c0e0-2b25-4ee3-8225-58c188e4cc0e"
      },
      "source": [
        "for x in \"banana\":\n",
        "  print(x)"
      ],
      "execution_count": 8,
      "outputs": [
        {
          "output_type": "stream",
          "name": "stdout",
          "text": [
            "b\n",
            "a\n",
            "n\n",
            "a\n",
            "n\n",
            "a\n"
          ]
        }
      ]
    },
    {
      "cell_type": "code",
      "metadata": {
        "id": "DEEA1UCDM0lV",
        "colab": {
          "base_uri": "https://localhost:8080/"
        },
        "outputId": "bb4cc5ad-83b5-45ff-f65f-0fec7ed1ce85"
      },
      "source": [
        "a = \"Hello,   World!\"\n",
        "print(len(a))"
      ],
      "execution_count": 9,
      "outputs": [
        {
          "output_type": "stream",
          "name": "stdout",
          "text": [
            "15\n"
          ]
        }
      ]
    },
    {
      "cell_type": "code",
      "metadata": {
        "id": "tqqfNbmxM4S2",
        "colab": {
          "base_uri": "https://localhost:8080/"
        },
        "outputId": "346d0123-e829-461f-9e56-a071ef846329"
      },
      "source": [
        "txt = \"The best things in life are free!\"\n",
        "print(\"free\" in txt)"
      ],
      "execution_count": 10,
      "outputs": [
        {
          "output_type": "stream",
          "name": "stdout",
          "text": [
            "True\n"
          ]
        }
      ]
    },
    {
      "cell_type": "code",
      "metadata": {
        "id": "DdiknJ49M5zI",
        "colab": {
          "base_uri": "https://localhost:8080/"
        },
        "outputId": "90108868-eb5f-4596-ca19-7368a1810341"
      },
      "source": [
        "txt = \"The best things in life are free!\"\n",
        "if \"free\" in txt:\n",
        "  print(\"Yes, 'free' is present.\")\n",
        "else:\n",
        "  print(\"'free' is absent\")  "
      ],
      "execution_count": 12,
      "outputs": [
        {
          "output_type": "stream",
          "name": "stdout",
          "text": [
            "Yes, 'free' is present.\n"
          ]
        }
      ]
    },
    {
      "cell_type": "code",
      "metadata": {
        "id": "Vtq16Be_M-DH",
        "colab": {
          "base_uri": "https://localhost:8080/"
        },
        "outputId": "497525f2-f67c-440e-f6a9-21dbff99eb56"
      },
      "source": [
        "txt = \"The best things in life are free!\"\n",
        "print(\"expensive\" not in txt)"
      ],
      "execution_count": 15,
      "outputs": [
        {
          "output_type": "stream",
          "name": "stdout",
          "text": [
            "True\n"
          ]
        }
      ]
    },
    {
      "cell_type": "code",
      "metadata": {
        "id": "iWijH4Q4NBmy",
        "colab": {
          "base_uri": "https://localhost:8080/"
        },
        "outputId": "443c6b9f-5905-43ab-b52d-687d8c0332fb"
      },
      "source": [
        "txt = \"The best things in life are free!\"\n",
        "if \"expensive\" not in txt:\n",
        "  print(\"No, 'expensive' is NOT present.\")"
      ],
      "execution_count": 16,
      "outputs": [
        {
          "output_type": "stream",
          "name": "stdout",
          "text": [
            "No, 'expensive' is NOT present.\n"
          ]
        }
      ]
    }
  ]
}